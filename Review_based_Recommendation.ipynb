{
  "nbformat": 4,
  "nbformat_minor": 0,
  "metadata": {
    "colab": {
      "name": "Review_based_Recommendation.ipynb",
      "provenance": [],
      "collapsed_sections": [
        "DqNq8nBfXpZo",
        "nrW-UCNvWxqY",
        "hUWizm3Fa5X1",
        "d5oJ0KMQ3Wna",
        "SSYg8cjDoJ2T"
      ]
    },
    "kernelspec": {
      "name": "python3",
      "display_name": "Python 3"
    },
    "language_info": {
      "name": "python"
    }
  },
  "cells": [
    {
      "cell_type": "markdown",
      "source": [
        "## *Imports and Installs*"
      ],
      "metadata": {
        "id": "DqNq8nBfXpZo"
      }
    },
    {
      "cell_type": "code",
      "source": [
        "!pip install gensim\n",
        "!pip install Unidecode\n",
        "!pip install ml_metrics\n",
        "!pip install sklearn_evaluation"
      ],
      "metadata": {
        "id": "l4gpCPROoySY",
        "colab": {
          "base_uri": "https://localhost:8080/"
        },
        "outputId": "e06807ad-eb07-4eea-e02b-c37a21e113be"
      },
      "execution_count": null,
      "outputs": [
        {
          "output_type": "stream",
          "name": "stdout",
          "text": [
            "Requirement already satisfied: gensim in /usr/local/lib/python3.7/dist-packages (3.6.0)\n",
            "Requirement already satisfied: smart-open>=1.2.1 in /usr/local/lib/python3.7/dist-packages (from gensim) (6.0.0)\n",
            "Requirement already satisfied: scipy>=0.18.1 in /usr/local/lib/python3.7/dist-packages (from gensim) (1.4.1)\n",
            "Requirement already satisfied: six>=1.5.0 in /usr/local/lib/python3.7/dist-packages (from gensim) (1.15.0)\n",
            "Requirement already satisfied: numpy>=1.11.3 in /usr/local/lib/python3.7/dist-packages (from gensim) (1.21.6)\n",
            "Requirement already satisfied: Unidecode in /usr/local/lib/python3.7/dist-packages (1.3.4)\n",
            "Requirement already satisfied: ml_metrics in /usr/local/lib/python3.7/dist-packages (0.1.4)\n",
            "Requirement already satisfied: pandas in /usr/local/lib/python3.7/dist-packages (from ml_metrics) (1.3.5)\n",
            "Requirement already satisfied: numpy in /usr/local/lib/python3.7/dist-packages (from ml_metrics) (1.21.6)\n",
            "Requirement already satisfied: pytz>=2017.3 in /usr/local/lib/python3.7/dist-packages (from pandas->ml_metrics) (2022.1)\n",
            "Requirement already satisfied: python-dateutil>=2.7.3 in /usr/local/lib/python3.7/dist-packages (from pandas->ml_metrics) (2.8.2)\n",
            "Requirement already satisfied: six>=1.5 in /usr/local/lib/python3.7/dist-packages (from python-dateutil>=2.7.3->pandas->ml_metrics) (1.15.0)\n",
            "Requirement already satisfied: sklearn_evaluation in /usr/local/lib/python3.7/dist-packages (0.5.8)\n",
            "Requirement already satisfied: tabulate in /usr/local/lib/python3.7/dist-packages (from sklearn_evaluation) (0.8.9)\n",
            "Requirement already satisfied: matplotlib in /usr/local/lib/python3.7/dist-packages (from sklearn_evaluation) (3.2.2)\n",
            "Requirement already satisfied: mistune in /usr/local/lib/python3.7/dist-packages (from sklearn_evaluation) (0.8.4)\n",
            "Requirement already satisfied: ipython in /usr/local/lib/python3.7/dist-packages (from sklearn_evaluation) (5.5.0)\n",
            "Requirement already satisfied: scikit-learn in /usr/local/lib/python3.7/dist-packages (from sklearn_evaluation) (1.0.2)\n",
            "Requirement already satisfied: pandas in /usr/local/lib/python3.7/dist-packages (from sklearn_evaluation) (1.3.5)\n",
            "Requirement already satisfied: jinja2 in /usr/local/lib/python3.7/dist-packages (from sklearn_evaluation) (2.11.3)\n",
            "Requirement already satisfied: nbformat in /usr/local/lib/python3.7/dist-packages (from sklearn_evaluation) (5.3.0)\n",
            "Requirement already satisfied: black in /usr/local/lib/python3.7/dist-packages (from sklearn_evaluation) (22.3.0)\n",
            "Requirement already satisfied: parso in /usr/local/lib/python3.7/dist-packages (from sklearn_evaluation) (0.8.3)\n",
            "Requirement already satisfied: decorator in /usr/local/lib/python3.7/dist-packages (from sklearn_evaluation) (4.4.2)\n",
            "Requirement already satisfied: typing-extensions>=3.10.0.0 in /usr/local/lib/python3.7/dist-packages (from black->sklearn_evaluation) (4.2.0)\n",
            "Requirement already satisfied: mypy-extensions>=0.4.3 in /usr/local/lib/python3.7/dist-packages (from black->sklearn_evaluation) (0.4.3)\n",
            "Requirement already satisfied: platformdirs>=2 in /usr/local/lib/python3.7/dist-packages (from black->sklearn_evaluation) (2.5.2)\n",
            "Requirement already satisfied: pathspec>=0.9.0 in /usr/local/lib/python3.7/dist-packages (from black->sklearn_evaluation) (0.9.0)\n",
            "Requirement already satisfied: tomli>=1.1.0 in /usr/local/lib/python3.7/dist-packages (from black->sklearn_evaluation) (2.0.1)\n",
            "Requirement already satisfied: click>=8.0.0 in /usr/local/lib/python3.7/dist-packages (from black->sklearn_evaluation) (8.1.3)\n",
            "Requirement already satisfied: typed-ast>=1.4.2 in /usr/local/lib/python3.7/dist-packages (from black->sklearn_evaluation) (1.5.3)\n",
            "Requirement already satisfied: importlib-metadata in /usr/local/lib/python3.7/dist-packages (from click>=8.0.0->black->sklearn_evaluation) (4.11.3)\n",
            "Requirement already satisfied: zipp>=0.5 in /usr/local/lib/python3.7/dist-packages (from importlib-metadata->click>=8.0.0->black->sklearn_evaluation) (3.8.0)\n",
            "Requirement already satisfied: traitlets>=4.2 in /usr/local/lib/python3.7/dist-packages (from ipython->sklearn_evaluation) (5.1.1)\n",
            "Requirement already satisfied: simplegeneric>0.8 in /usr/local/lib/python3.7/dist-packages (from ipython->sklearn_evaluation) (0.8.1)\n",
            "Requirement already satisfied: setuptools>=18.5 in /usr/local/lib/python3.7/dist-packages (from ipython->sklearn_evaluation) (57.4.0)\n",
            "Requirement already satisfied: pickleshare in /usr/local/lib/python3.7/dist-packages (from ipython->sklearn_evaluation) (0.7.5)\n",
            "Requirement already satisfied: prompt-toolkit<2.0.0,>=1.0.4 in /usr/local/lib/python3.7/dist-packages (from ipython->sklearn_evaluation) (1.0.18)\n",
            "Requirement already satisfied: pygments in /usr/local/lib/python3.7/dist-packages (from ipython->sklearn_evaluation) (2.6.1)\n",
            "Requirement already satisfied: pexpect in /usr/local/lib/python3.7/dist-packages (from ipython->sklearn_evaluation) (4.8.0)\n",
            "Requirement already satisfied: wcwidth in /usr/local/lib/python3.7/dist-packages (from prompt-toolkit<2.0.0,>=1.0.4->ipython->sklearn_evaluation) (0.2.5)\n",
            "Requirement already satisfied: six>=1.9.0 in /usr/local/lib/python3.7/dist-packages (from prompt-toolkit<2.0.0,>=1.0.4->ipython->sklearn_evaluation) (1.15.0)\n",
            "Requirement already satisfied: MarkupSafe>=0.23 in /usr/local/lib/python3.7/dist-packages (from jinja2->sklearn_evaluation) (2.0.1)\n",
            "Requirement already satisfied: numpy>=1.11 in /usr/local/lib/python3.7/dist-packages (from matplotlib->sklearn_evaluation) (1.21.6)\n",
            "Requirement already satisfied: pyparsing!=2.0.4,!=2.1.2,!=2.1.6,>=2.0.1 in /usr/local/lib/python3.7/dist-packages (from matplotlib->sklearn_evaluation) (3.0.8)\n",
            "Requirement already satisfied: python-dateutil>=2.1 in /usr/local/lib/python3.7/dist-packages (from matplotlib->sklearn_evaluation) (2.8.2)\n",
            "Requirement already satisfied: kiwisolver>=1.0.1 in /usr/local/lib/python3.7/dist-packages (from matplotlib->sklearn_evaluation) (1.4.2)\n",
            "Requirement already satisfied: cycler>=0.10 in /usr/local/lib/python3.7/dist-packages (from matplotlib->sklearn_evaluation) (0.11.0)\n",
            "Requirement already satisfied: fastjsonschema in /usr/local/lib/python3.7/dist-packages (from nbformat->sklearn_evaluation) (2.15.3)\n",
            "Requirement already satisfied: jupyter-core in /usr/local/lib/python3.7/dist-packages (from nbformat->sklearn_evaluation) (4.10.0)\n",
            "Requirement already satisfied: jsonschema>=2.6 in /usr/local/lib/python3.7/dist-packages (from nbformat->sklearn_evaluation) (4.3.3)\n",
            "Requirement already satisfied: attrs>=17.4.0 in /usr/local/lib/python3.7/dist-packages (from jsonschema>=2.6->nbformat->sklearn_evaluation) (21.4.0)\n",
            "Requirement already satisfied: importlib-resources>=1.4.0 in /usr/local/lib/python3.7/dist-packages (from jsonschema>=2.6->nbformat->sklearn_evaluation) (5.7.1)\n",
            "Requirement already satisfied: pyrsistent!=0.17.0,!=0.17.1,!=0.17.2,>=0.14.0 in /usr/local/lib/python3.7/dist-packages (from jsonschema>=2.6->nbformat->sklearn_evaluation) (0.18.1)\n",
            "Requirement already satisfied: pytz>=2017.3 in /usr/local/lib/python3.7/dist-packages (from pandas->sklearn_evaluation) (2022.1)\n",
            "Requirement already satisfied: ptyprocess>=0.5 in /usr/local/lib/python3.7/dist-packages (from pexpect->ipython->sklearn_evaluation) (0.7.0)\n",
            "Requirement already satisfied: scipy>=1.1.0 in /usr/local/lib/python3.7/dist-packages (from scikit-learn->sklearn_evaluation) (1.4.1)\n",
            "Requirement already satisfied: threadpoolctl>=2.0.0 in /usr/local/lib/python3.7/dist-packages (from scikit-learn->sklearn_evaluation) (3.1.0)\n",
            "Requirement already satisfied: joblib>=0.11 in /usr/local/lib/python3.7/dist-packages (from scikit-learn->sklearn_evaluation) (1.1.0)\n"
          ]
        }
      ]
    },
    {
      "cell_type": "code",
      "source": [
        "from google.colab import drive\n",
        "drive.mount('/content/drive')"
      ],
      "metadata": {
        "id": "TsvrQ5OWEhqq",
        "colab": {
          "base_uri": "https://localhost:8080/"
        },
        "outputId": "7c02f3e0-96d6-46f6-ac32-9d29981ebb5a"
      },
      "execution_count": null,
      "outputs": [
        {
          "output_type": "stream",
          "name": "stdout",
          "text": [
            "Drive already mounted at /content/drive; to attempt to forcibly remount, call drive.mount(\"/content/drive\", force_remount=True).\n"
          ]
        }
      ]
    },
    {
      "cell_type": "code",
      "source": [
        "# Importing Libraries\n",
        "import pandas as pd\n",
        "import numpy as np\n",
        "import multiprocessing\n",
        "import pickle as pk\n",
        "import logging  # Setting up the loggings to monitor gensim\n",
        "import nltk\n",
        "import seaborn as sb\n",
        "import matplotlib.pyplot as plt\n",
        "nltk.download('stopwords')\n",
        "nltk.download('words')\n",
        "\n",
        "from keras.models import Sequential \n",
        "from nltk.corpus import stopwords\n",
        "from collections import defaultdict\n",
        "from gensim.models import Word2Vec\n",
        "from gensim.parsing.preprocessing import remove_stopwords\n",
        "from gensim import utils\n",
        "from os import listdir\n",
        "from os.path import isfile, join\n",
        "from unidecode import unidecode\n",
        "from sklearn.cluster import KMeans\n",
        "from sklearn.decomposition import PCA\n",
        "from sklearn.manifold import TSNE\n",
        "\n",
        "\n",
        "\n",
        "# import logging, sys\n",
        "# logging.disable(sys.maxsize)\n",
        "# logging.getLogger(\"imported_module\").setLevel(logging.WARNING)\n",
        "# logging.basicConfig(format=\"%(levelname)s - %(asctime)s: %(message)s\", datefmt= '%H:%M:%S', level=logging.INFO)"
      ],
      "metadata": {
        "id": "OwXIb_kYn8Rc",
        "colab": {
          "base_uri": "https://localhost:8080/"
        },
        "outputId": "ee5d5ad9-c1eb-4623-db73-068e8e990e22"
      },
      "execution_count": null,
      "outputs": [
        {
          "output_type": "stream",
          "name": "stdout",
          "text": [
            "[nltk_data] Downloading package stopwords to /root/nltk_data...\n",
            "[nltk_data]   Package stopwords is already up-to-date!\n",
            "[nltk_data] Downloading package words to /root/nltk_data...\n",
            "[nltk_data]   Package words is already up-to-date!\n"
          ]
        }
      ]
    },
    {
      "cell_type": "markdown",
      "source": [
        "## *Reusable Functions*"
      ],
      "metadata": {
        "id": "nrW-UCNvWxqY"
      }
    },
    {
      "cell_type": "code",
      "source": [
        "# ******** Reusable Functions ******** \n",
        "\n",
        "# Serializing dataframes into Objects (for space and fast accesibility)\n",
        "def serialize(path,data):\n",
        "  pick = open(path, 'ab')\n",
        "  pk.dump(data, pick)                     \n",
        "  pick.close()\n",
        "\n",
        "# Deserializing the Dataframes from Objects to pre-process.\n",
        "def deserialize(path):\n",
        "  pick = open(path, 'rb')     \n",
        "  df = pk.load(pick)\n",
        "  pick.close()\n",
        "  return df\n",
        "\n",
        "# NAs for individual features.\n",
        "def count_nas(df):\n",
        "  lst = pd.DataFrame(columns = ['Column_Name', 'Count_of_missing_values']) \n",
        "  cols = df.columns\n",
        "  for i in cols:\n",
        "    lst.loc[len(lst.index)] = [i, df[i].isna().sum()]\n",
        "  return lst\n",
        "\n",
        "# For Querying Certain products from the dataFrame.\n",
        "def query_product(dataFrame,product):\n",
        "  res = dataFrame.query('product_title.str.contains(\"'+product.lower()+'\")', engine='python')\n",
        "  print(len(res),\"Data Points have been retrieved\")\n",
        "  return res\n",
        "\n",
        "# Retrive columns\n",
        "def retrieve_column(dataFrame,column):\n",
        "  return dataFrame[column]\n",
        "# retrieve_column(df,\"review_body\")\n",
        "\n",
        "\n",
        "\n",
        "# Word2Vec Modelling Functions\n",
        "\n",
        "def basicModel():\n",
        "  cores = multiprocessing.cpu_count()\n",
        "  return Word2Vec(min_count=5,\n",
        "                     window=10,\n",
        "                     size=300,\n",
        "                     alpha=0.03, \n",
        "                     min_alpha=0.0007, \n",
        "                     negative=5,\n",
        "                    workers=cores-1)\n",
        "\n",
        "\n",
        "def buildVocabulary(model, data):\n",
        "  model.build_vocab(data, progress_per=10000)\n",
        "\n",
        "def wordModeltrain(model, processed_reviews):\n",
        "  model.train(processed_reviews, \n",
        "              total_examples=model.corpus_count, \n",
        "              epochs=30, \n",
        "              report_delay=10000)\n",
        "\n",
        "# Preprocessing each data-frame\n",
        "\n",
        "def preprocess_dfs(data):\n",
        "\n",
        "  # Feature necessary for the project\n",
        "  features_to_keep = ['product_id', 'review_id', 'product_title', 'product_category', 'star_rating', 'helpful_votes', 'total_votes', 'verified_purchase', 'review_headline', 'review_body', 'review_date']\n",
        "  data = data[features_to_keep]\n",
        "\n",
        "  # res = sr *p1 + hv *p2 +...+rd*pn\n",
        "  # Dropping missing values\n",
        "  data = data.dropna(axis = 0, how ='any', thresh = None, subset = None, inplace=False)\n",
        "\n",
        "  # Selecting only those products that are greater then a particular threshold (for now gt 100)\n",
        "  v = data.product_id.value_counts()\n",
        "  data = data[data.product_id.isin(v.index[v.gt(100)])]\n",
        "\n",
        "  data.review_body = data.review_body.str.replace(\"'\", \"\")\n",
        "  data.review_body = data.review_body.str.replace(\"[^A-Za-z0-9]\", \" \")\n",
        "  \n",
        "\n",
        "  # Calculating ratio of helpful and total votes as \"ratio_votes\"\n",
        "  data['ratio_votes'] = np.where(data['total_votes']!= 0, np.round(data['helpful_votes']/data['total_votes'],2),0)\n",
        "  \n",
        "  data['star_rating'] = data['star_rating'].astype('float')\n",
        "  \n",
        "  conditions = [data['star_rating'] < 3,\n",
        "                data['star_rating'] >= 3 ]\n",
        "  choices = [0,\n",
        "             1]\n",
        "  data['True_value'] = np.select(conditions, choices, default = None)\n",
        "\n",
        "  return data\n",
        "\n",
        "global_words = set(nltk.corpus.words.words())\n",
        "def SentencesToWords(text):\n",
        "  text = unidecode(text)\n",
        "  text = str(text)\n",
        "  text = text.lower()\n",
        "  text = remove_stopwords(text)\n",
        "  text = \" \".join(w for w in nltk.wordpunct_tokenize(text) \n",
        "         if w.lower() in global_words or not w.isalpha())\n",
        "  text = utils.simple_preprocess(text,min_len=2,max_len=100,deacc=True)\n",
        "  return text\n",
        "\n",
        "\n",
        "\n"
      ],
      "metadata": {
        "id": "f31tvLeBsFXX"
      },
      "execution_count": null,
      "outputs": []
    },
    {
      "cell_type": "markdown",
      "source": [
        "## *Word2Vec Modeling*"
      ],
      "metadata": {
        "id": "hUWizm3Fa5X1"
      }
    },
    {
      "cell_type": "markdown",
      "source": [
        "### Loading Datframes \n",
        "\n",
        "- From original source\n",
        "\n",
        "- Tokenizing\n",
        "\n",
        "- Model Training, saving and loading (hardcoded list)\n",
        "\n",
        "- Connotation Calculation\n",
        "\n",
        "- Serializing Dataframes\n",
        "\n",
        "- Deserializing Dataframes\n",
        "\n"
      ],
      "metadata": {
        "id": "3yhiwBF1j2ci"
      }
    },
    {
      "cell_type": "code",
      "source": [
        "# ----------------------Loading Datasets from original source.----------------------\n",
        "\n",
        "mypath = \"/content/drive/MyDrive/Unsupervised Machine Learning (Sentimental Reccommendation)/Data_Archive\"\n",
        "mypath1 = \"/content/drive/MyDrive/UML Project Semester 2/Unsupervised Machine Learning (Sentimental Reccommendation)/Data_Archive\"\n",
        "\n",
        "onlyfiles = []\n",
        "try:\n",
        "  for f in listdir(mypath):\n",
        "    if isfile(join(mypath, f)):\n",
        "      onlyfiles.append(mypath + '/' + f)\n",
        "except:\n",
        "  for f in listdir(mypath1):\n",
        "    if isfile(join(mypath1, f)):\n",
        "      onlyfiles.append(mypath1 + '/' + f)\n",
        "\n",
        "# Fetching all the datasets into dataframes.\n",
        "df = [pd.DataFrame()] * len(onlyfiles)\n",
        "dict_df = {} # Stores Product Category with respective dfs\n",
        "k = 0\n",
        "for i in onlyfiles:\n",
        "  df[k] = pd.read_csv(i, sep='\\t', error_bad_lines=False, skip_blank_lines=True)\n",
        "  dict_df[df[k].product_category[0]] = df[k]\n",
        "  k = k + 1\n",
        "dict_df.keys()\n"
      ],
      "metadata": {
        "id": "ABcEBjduOP5B",
        "colab": {
          "base_uri": "https://localhost:8080/"
        },
        "outputId": "94df188e-79df-42e4-8749-c43a3bf5b24d"
      },
      "execution_count": null,
      "outputs": [
        {
          "output_type": "stream",
          "name": "stderr",
          "text": [
            "/usr/local/lib/python3.7/dist-packages/IPython/core/interactiveshell.py:2882: FutureWarning: The error_bad_lines argument has been deprecated and will be removed in a future version.\n",
            "\n",
            "\n",
            "  exec(code_obj, self.user_global_ns, self.user_ns)\n",
            "b'Skipping line 10437: expected 15 fields, saw 22\\nSkipping line 10443: expected 15 fields, saw 22\\nSkipping line 19872: expected 15 fields, saw 22\\nSkipping line 20055: expected 15 fields, saw 22\\nSkipping line 20107: expected 15 fields, saw 22\\nSkipping line 20167: expected 15 fields, saw 22\\nSkipping line 53858: expected 15 fields, saw 22\\n'\n",
            "b'Skipping line 72173: expected 15 fields, saw 22\\nSkipping line 84308: expected 15 fields, saw 22\\nSkipping line 92156: expected 15 fields, saw 22\\nSkipping line 97791: expected 15 fields, saw 22\\nSkipping line 106812: expected 15 fields, saw 22\\n'\n",
            "b'Skipping line 138899: expected 15 fields, saw 22\\nSkipping line 145840: expected 15 fields, saw 22\\nSkipping line 192385: expected 15 fields, saw 22\\nSkipping line 194126: expected 15 fields, saw 22\\n'\n",
            "b'Skipping line 222872: expected 15 fields, saw 22\\nSkipping line 236587: expected 15 fields, saw 22\\nSkipping line 245017: expected 15 fields, saw 22\\n'\n",
            "b'Skipping line 273895: expected 15 fields, saw 22\\nSkipping line 302200: expected 15 fields, saw 22\\n'\n",
            "b'Skipping line 390306: expected 15 fields, saw 22\\n'\n",
            "b'Skipping line 395443: expected 15 fields, saw 22\\nSkipping line 399564: expected 15 fields, saw 22\\nSkipping line 435836: expected 15 fields, saw 22\\nSkipping line 436589: expected 15 fields, saw 22\\n'\n",
            "b'Skipping line 477174: expected 15 fields, saw 22\\nSkipping line 502547: expected 15 fields, saw 22\\nSkipping line 514925: expected 15 fields, saw 22\\n'\n",
            "b'Skipping line 533989: expected 15 fields, saw 22\\nSkipping line 534712: expected 15 fields, saw 22\\nSkipping line 545993: expected 15 fields, saw 22\\nSkipping line 574954: expected 15 fields, saw 22\\nSkipping line 576486: expected 15 fields, saw 22\\n'\n",
            "b'Skipping line 604707: expected 15 fields, saw 22\\nSkipping line 613292: expected 15 fields, saw 22\\nSkipping line 622491: expected 15 fields, saw 22\\nSkipping line 648193: expected 15 fields, saw 22\\n'\n",
            "b'Skipping line 686930: expected 15 fields, saw 22\\nSkipping line 691337: expected 15 fields, saw 22\\n'\n",
            "b'Skipping line 728126: expected 15 fields, saw 22\\nSkipping line 728320: expected 15 fields, saw 22\\nSkipping line 746281: expected 15 fields, saw 22\\n'\n",
            "b'Skipping line 831631: expected 15 fields, saw 22\\nSkipping line 849295: expected 15 fields, saw 22\\n'\n",
            "b'Skipping line 888781: expected 15 fields, saw 22\\n'\n",
            "b'Skipping line 962366: expected 15 fields, saw 22\\nSkipping line 976631: expected 15 fields, saw 22\\n'\n",
            "b'Skipping line 983531: expected 15 fields, saw 22\\n'\n",
            "b'Skipping line 1070597: expected 15 fields, saw 22\\n'\n",
            "b'Skipping line 1191390: expected 15 fields, saw 22\\n'\n",
            "b'Skipping line 1258986: expected 15 fields, saw 22\\nSkipping line 1260478: expected 15 fields, saw 22\\n'\n",
            "b'Skipping line 1318010: expected 15 fields, saw 22\\nSkipping line 1375879: expected 15 fields, saw 22\\n'\n",
            "b'Skipping line 1570444: expected 15 fields, saw 22\\n'\n",
            "b'Skipping line 1690885: expected 15 fields, saw 22\\nSkipping line 1699783: expected 15 fields, saw 22\\n'\n",
            "b'Skipping line 1756053: expected 15 fields, saw 22\\n'\n",
            "/usr/local/lib/python3.7/dist-packages/IPython/core/interactiveshell.py:2882: DtypeWarning: Columns (7) have mixed types.Specify dtype option on import or set low_memory=False.\n",
            "  exec(code_obj, self.user_global_ns, self.user_ns)\n",
            "b'Skipping line 5782: expected 15 fields, saw 22\\nSkipping line 31979: expected 15 fields, saw 22\\nSkipping line 32408: expected 15 fields, saw 22\\nSkipping line 45709: expected 15 fields, saw 22\\nSkipping line 64585: expected 15 fields, saw 22\\n'\n",
            "b'Skipping line 115742: expected 15 fields, saw 22\\nSkipping line 125537: expected 15 fields, saw 22\\nSkipping line 127580: expected 15 fields, saw 22\\nSkipping line 128696: expected 15 fields, saw 22\\n'\n",
            "b'Skipping line 143851: expected 15 fields, saw 22\\nSkipping line 147069: expected 15 fields, saw 22\\nSkipping line 149233: expected 15 fields, saw 22\\nSkipping line 167536: expected 15 fields, saw 22\\nSkipping line 168535: expected 15 fields, saw 22\\nSkipping line 171659: expected 15 fields, saw 22\\nSkipping line 184533: expected 15 fields, saw 22\\nSkipping line 184624: expected 15 fields, saw 22\\nSkipping line 184908: expected 15 fields, saw 22\\n'\n",
            "b'Skipping line 219150: expected 15 fields, saw 22\\nSkipping line 223178: expected 15 fields, saw 22\\nSkipping line 234333: expected 15 fields, saw 22\\nSkipping line 256242: expected 15 fields, saw 22\\n'\n",
            "b'Skipping line 268157: expected 15 fields, saw 22\\nSkipping line 276191: expected 15 fields, saw 22\\nSkipping line 277091: expected 15 fields, saw 22\\nSkipping line 288516: expected 15 fields, saw 22\\nSkipping line 289901: expected 15 fields, saw 22\\nSkipping line 292922: expected 15 fields, saw 22\\nSkipping line 308964: expected 15 fields, saw 22\\nSkipping line 325233: expected 15 fields, saw 22\\n'\n",
            "b'Skipping line 354051: expected 15 fields, saw 22\\nSkipping line 360552: expected 15 fields, saw 22\\nSkipping line 362489: expected 15 fields, saw 22\\nSkipping line 383798: expected 15 fields, saw 22\\nSkipping line 392390: expected 15 fields, saw 22\\n'\n",
            "b'Skipping line 456105: expected 15 fields, saw 22\\n'\n",
            "b'Skipping line 8704: expected 15 fields, saw 22\\nSkipping line 16933: expected 15 fields, saw 22\\nSkipping line 23726: expected 15 fields, saw 22\\n'\n",
            "b'Skipping line 85637: expected 15 fields, saw 22\\n'\n",
            "b'Skipping line 132136: expected 15 fields, saw 22\\nSkipping line 158070: expected 15 fields, saw 22\\nSkipping line 166007: expected 15 fields, saw 22\\nSkipping line 171877: expected 15 fields, saw 22\\nSkipping line 177756: expected 15 fields, saw 22\\nSkipping line 181773: expected 15 fields, saw 22\\nSkipping line 191085: expected 15 fields, saw 22\\nSkipping line 196273: expected 15 fields, saw 22\\nSkipping line 196331: expected 15 fields, saw 22\\n'\n",
            "b'Skipping line 197000: expected 15 fields, saw 22\\nSkipping line 197011: expected 15 fields, saw 22\\nSkipping line 197432: expected 15 fields, saw 22\\nSkipping line 208016: expected 15 fields, saw 22\\nSkipping line 214110: expected 15 fields, saw 22\\nSkipping line 244328: expected 15 fields, saw 22\\nSkipping line 248519: expected 15 fields, saw 22\\nSkipping line 254936: expected 15 fields, saw 22\\n'\n",
            "b'Skipping line 272057: expected 15 fields, saw 22\\nSkipping line 293214: expected 15 fields, saw 22\\nSkipping line 310507: expected 15 fields, saw 22\\nSkipping line 312306: expected 15 fields, saw 22\\nSkipping line 316296: expected 15 fields, saw 22\\n'\n",
            "b'Skipping line 336028: expected 15 fields, saw 22\\nSkipping line 344885: expected 15 fields, saw 22\\nSkipping line 352551: expected 15 fields, saw 22\\n'\n",
            "b'Skipping line 408773: expected 15 fields, saw 22\\nSkipping line 434535: expected 15 fields, saw 22\\n'\n",
            "b'Skipping line 581593: expected 15 fields, saw 22\\n'\n",
            "b'Skipping line 652409: expected 15 fields, saw 22\\n'\n"
          ]
        },
        {
          "output_type": "execute_result",
          "data": {
            "text/plain": [
              "dict_keys(['Jewelry', 'Musical Instruments', 'Watches'])"
            ]
          },
          "metadata": {},
          "execution_count": 5
        }
      ]
    },
    {
      "cell_type": "code",
      "source": [
        "# Preprocessing Dataframes and Tokenizing the Reviews\n",
        "\n",
        "def tokenizingDf(dtf):\n",
        "  \n",
        "  dtf = preprocess_dfs(dtf)\n",
        "  dtf['tokenized'] = dtf.review_body.apply(SentencesToWords)\n",
        "  return dtf\n",
        "\n",
        "\n",
        "for i in range(len(df)):\n",
        "  df[i] = tokenizingDf(df[i])\n"
      ],
      "metadata": {
        "id": "5-y2mvYZlbWh",
        "colab": {
          "base_uri": "https://localhost:8080/"
        },
        "outputId": "979274b2-749a-46f3-9612-ac0c666cbc6b"
      },
      "execution_count": null,
      "outputs": [
        {
          "output_type": "stream",
          "name": "stderr",
          "text": [
            "/usr/local/lib/python3.7/dist-packages/ipykernel_launcher.py:76: FutureWarning: The default value of regex will change from True to False in a future version.\n"
          ]
        }
      ]
    },
    {
      "cell_type": "code",
      "source": [
        "#-----------------------------------------# The Word2Vec Model [Model Training]------------------------------------------------\n",
        "\n",
        "# Need only execute once the below enclosed snippet to train word models\n",
        "#-----------------------------------------------------------------------------------------------------------------------------------------------\n",
        "\n",
        "def modelgen(df):\n",
        "  wmodel = basicModel()\n",
        "  buildVocabulary(wmodel,df['tokenized'])\n",
        "  wordModeltrain(wmodel,df['tokenized'])\n",
        "  wordTovec = wmodel.wv\n",
        "  kmodel = KMeans(n_clusters=2, max_iter=1000, random_state=True, n_init=50).fit(X=wordTovec.vectors)\n",
        "\n",
        "  path_word = \"/content/drive/MyDrive/Unsupervised Machine Learning (Sentimental Reccommendation)/Loading and Preprocessing/version13/word2vec_\" + str(df.product_category.iloc[0]) +  \".model\"\n",
        "  path_knn = \"/content/drive/MyDrive/Unsupervised Machine Learning (Sentimental Reccommendation)/Loading and Preprocessing/version13/knn_\" + str(df.product_category.iloc[0]) +  \".pkl\"\n",
        "  \n",
        "  path1_word = \"/content/drive/MyDrive/UML Project Semester 2/Unsupervised Machine Learning (Sentimental Reccommendation)/Loading and Preprocessing/version13/word2vec_\" + str(df.product_category.iloc[0]) +  \".model\"\n",
        "  path1_knn = \"/content/drive/MyDrive/UML Project Semester 2/Unsupervised Machine Learning (Sentimental Reccommendation)/Loading and Preprocessing/version13/knn_\" + str(df.product_category.iloc[0]) +  \".pkl\"\n",
        "\n",
        "  try:\n",
        "    wmodel.save(path_word)\n",
        "    serialize(path_knn,kmodel)\n",
        "  except:\n",
        "    wmodel.save(path1_word)\n",
        "    serialize(path1_knn,kmodel)\n",
        "\n",
        "#Creating models trained on words\n",
        "for i in range(len(df)):\n",
        "  modelgen(df[i])\n",
        "\n",
        "#-----------------------------------------------------------------------------------------------------------------------------------------------\n"
      ],
      "metadata": {
        "id": "iackpfWlTHBA"
      },
      "execution_count": null,
      "outputs": []
    },
    {
      "cell_type": "code",
      "source": [
        "# Loading the word2vec models and knn models\n",
        "\n",
        "lst = ['Jewelry', 'Musical Instruments', 'Watches']\n",
        "# lst = [str(df[i].product_category.iloc[0]) for i in range(len(df))]\n",
        "\n",
        "wmodels = []\n",
        "knns = []\n",
        "for i in range(len(lst)):\n",
        "\n",
        "  path_word = \"/content/drive/MyDrive/Unsupervised Machine Learning (Sentimental Reccommendation)/Loading and Preprocessing/version13/word2vec_\" + lst[i] +  \".model\"\n",
        "  path_knn = \"/content/drive/MyDrive/Unsupervised Machine Learning (Sentimental Reccommendation)/Loading and Preprocessing/version13/knn_\" + lst[i] +  \".pkl\"\n",
        "  \n",
        "  path1_word = \"/content/drive/MyDrive/UML Project Semester 2/Unsupervised Machine Learning (Sentimental Reccommendation)/Loading and Preprocessing/version13/word2vec_\" + lst[i] +  \".model\"\n",
        "  path1_knn = \"/content/drive/MyDrive/UML Project Semester 2/Unsupervised Machine Learning (Sentimental Reccommendation)/Loading and Preprocessing/version13/knn_\" + lst[i] +  \".pkl\"\n",
        "\n",
        "  try:\n",
        "    wmodel = Word2Vec.load(path_word)\n",
        "    knn = deserialize(path_knn)\n",
        "    wmodels.append(wmodel)\n",
        "    knns.append(knn)\n",
        "  except:\n",
        "    wmodel = Word2Vec.load(path1_word)\n",
        "    knn = deserialize(path1_knn)\n",
        "    wmodels.append(wmodel)\n",
        "    knns.append(knn)"
      ],
      "metadata": {
        "id": "M_ObFIxNTIgF"
      },
      "execution_count": null,
      "outputs": []
    },
    {
      "cell_type": "code",
      "source": [
        "# Connotation Calculation (negative or positive)\n",
        "\n",
        "# !---Creating a dictionary of words (indicating each word belonging to a positive class [1] or negative class [-1])---!\n",
        "\n",
        "def class_determination(model, pos_cluster, neg_cluster, cnt):\n",
        "\n",
        "  # print('reached')\n",
        "  # Getting the similarity metric (in tuple form - word & similarity) from both the cluster centers to each word\n",
        "  pos = model.wv.similar_by_vector(pos_cluster, topn=cnt, restrict_vocab=None)\n",
        "  neg = model.wv.similar_by_vector(neg_cluster, topn=cnt, restrict_vocab=None)\n",
        "  # print('passed')\n",
        "  # Empty list of words and their similarities to both clusters (to append words & similarities later on)\n",
        "  p_words = []\n",
        "  n_words = []\n",
        "  p_similarities = []\n",
        "  n_similarities = []\n",
        "  p_distances = []\n",
        "  n_distances = []\n",
        "\n",
        "  for i in range(cnt):\n",
        "    p_words.append(pos[i][0])\n",
        "    p_similarities.append(pos[i][1])\n",
        "    p_distances.append((1-pos[i][1]))\n",
        "\n",
        "    n_words.append(neg[i][0])\n",
        "    n_similarities.append(neg[i][1])\n",
        "    n_distances.append((1-neg[i][1]))\n",
        "\n",
        "  df_pos = pd.DataFrame({'word': p_words,\n",
        "                     'S_pos' : p_similarities,\n",
        "                     'D_pos' : p_distances\n",
        "                       })\n",
        "  df_neg = pd.DataFrame({'word':n_words,\n",
        "                       'S_neg': n_similarities,\n",
        "                       'D_neg' : n_distances\n",
        "                       })\n",
        "  df_pos = df_pos.sort_values(by=['word'])\n",
        "  df_neg = df_neg.sort_values(by=['word'])\n",
        "\n",
        "  # merged from list of words and their similarity clusters.\n",
        "  result = pd.merge(df_pos, df_neg, on='word', how='outer')\n",
        "\n",
        "  # Determining the class of a word(positive or negative) based on distance calculated from similarities\n",
        "  conditions = [result['D_pos'] < result['D_neg'],\n",
        "                result['D_pos'] > result['D_neg']]\n",
        "  choices = ['Positive',\n",
        "             'Negative']\n",
        "\n",
        "  result['class'] = np.select(conditions, choices, default = None)\n",
        "\n",
        "  conn_dictionary = {}\n",
        "  for i in range(len(result)):\n",
        "    if result.loc[i,'class'] == 'Positive':\n",
        "      conn_dictionary[result.loc[i,'word']] = 1\n",
        "    else:\n",
        "      conn_dictionary[result.loc[i,'word']] = -1\n",
        "    \n",
        "  return result, conn_dictionary\n",
        "\n"
      ],
      "metadata": {
        "id": "Dr6xSudlkU86"
      },
      "execution_count": null,
      "outputs": []
    },
    {
      "cell_type": "code",
      "source": [
        "# Score Calculation\n",
        "def score_calculation_df(df, dct):\n",
        "  def score(lst):\n",
        "    # print(\"list : \",lst)\n",
        "    total = 0\n",
        "    for i in lst:\n",
        "      if i in dct:\n",
        "        # print(\"dict value : \",i)\n",
        "        total = total + dct.get(i)\n",
        "      else:\n",
        "        total = total + 0\n",
        "    return total\n",
        "  df['score'] = df['tokenized'].apply(score)\n",
        "  # conditions = [df['score'] < 0,\n",
        "  #               df['score'] >= 0 ]\n",
        "  # choices = [0,\n",
        "  #            1]\n",
        "  # df['predicted_value'] = np.select(conditions, choices, default = None)\n",
        "  # df['star_rating'] = df['star_rating'].astype('float')\n",
        "  \n",
        "  # conditions = [df['star_rating'] < 3,\n",
        "  #               df['star_rating'] >= 3 ]\n",
        "  # choices = [0,\n",
        "  #            1]\n",
        "  # df['True_value'] = np.select(conditions, choices, default = None)\n",
        "\n",
        "  return df"
      ],
      "metadata": {
        "id": "EKi2uuJF_gjd"
      },
      "execution_count": null,
      "outputs": []
    },
    {
      "cell_type": "code",
      "source": [
        "# knns[0].cluster_centers_[0].reshape(300,1).shape\n",
        "# np.squeeze(np.asarray(knns[0].cluster_centers_[0])).reshape(1,300)\n",
        "# len(wmodels[0].wv.vocab)\n",
        "# wmodels[0].wv.similar_by_vector(knns[0].cluster_centers_[0].reshape(300,1), topn=100, restrict_vocab=None)"
      ],
      "metadata": {
        "id": "rX6WWI27KXok"
      },
      "execution_count": null,
      "outputs": []
    },
    {
      "cell_type": "code",
      "source": [
        "# Call for Connotation calculation for all dataframes\n",
        "class_fixed = []\n",
        "dicts = []\n",
        "for i in range(len(df)):\n",
        "  result, dct = class_determination(wmodels[i], knns[i].cluster_centers_[0], knns[i].cluster_centers_[1], len(wmodels[i].wv.vocab))\n",
        "  class_fixed.append(result)\n",
        "  dicts.append(dct)\n",
        "  "
      ],
      "metadata": {
        "id": "sIPIkSHDy0bF"
      },
      "execution_count": null,
      "outputs": []
    },
    {
      "cell_type": "code",
      "source": [
        "# Call for Score Calculation of all Dataframes\n",
        "for i in range(len(df)):\n",
        "  df[i] = score_calculation_df(df[i],dicts[i])\n",
        "  "
      ],
      "metadata": {
        "id": "8Pf28D7wEIv7"
      },
      "execution_count": null,
      "outputs": []
    },
    {
      "cell_type": "code",
      "source": [
        "# Serializing the dataframes\n",
        "lst = ['Jewelry', 'Musical Instruments', 'Watches']\n",
        "# lst = [str(df[i].product_category.iloc[0]) for i in range(len(df))]\n",
        "\n",
        "for i in range(len(lst)):\n",
        "  path_df = \"/content/drive/MyDrive/Unsupervised Machine Learning (Sentimental Reccommendation)/Loading and Preprocessing/version13/df_\" + lst[i] +  \".pkl\"\n",
        "  path1_df = '/content/drive/MyDrive/UML Project Semester 2/Unsupervised Machine Learning (Sentimental Reccommendation)/Loading and Preprocessing/version13/df_' + lst[i] +  '.pkl'\n",
        "  try:\n",
        "    serialize(path_df, df[i])\n",
        "  except:\n",
        "    serialize(path1_df, df[i])\n"
      ],
      "metadata": {
        "id": "TUGuEk4zmISm"
      },
      "execution_count": null,
      "outputs": []
    },
    {
      "cell_type": "code",
      "source": [
        "# Deserializing (Loading) the Dataframes\n",
        "\n",
        "lst = ['Jewelry', 'Musical Instruments', 'Watches']\n",
        "# lst = [str(df[i].product_category.iloc[0]) for i in range(len(df))]\n",
        "df = []\n",
        "for i in range(len(lst)):\n",
        "  path_df = \"/content/drive/MyDrive/Unsupervised Machine Learning (Sentimental Reccommendation)/Loading and Preprocessing/version13/df_\" + lst[i] +  \".pkl\"\n",
        "  path1_df = '/content/drive/MyDrive/UML Project Semester 2/Unsupervised Machine Learning (Sentimental Reccommendation)/Loading and Preprocessing/version13/df_' + lst[i] +  '.pkl'\n",
        "  try:\n",
        "    df.append(deserialize(path_df))\n",
        "  except:\n",
        "    df.append(deserialize(path1_df))\n",
        "\n"
      ],
      "metadata": {
        "id": "-lXNF63A5Yg5"
      },
      "execution_count": null,
      "outputs": []
    },
    {
      "cell_type": "code",
      "source": [
        "\n"
      ],
      "metadata": {
        "id": "J3cOsHgS1ryD"
      },
      "execution_count": null,
      "outputs": []
    },
    {
      "cell_type": "code",
      "source": [
        ""
      ],
      "metadata": {
        "id": "-r4qtGcIKjtj"
      },
      "execution_count": null,
      "outputs": []
    },
    {
      "cell_type": "code",
      "source": [
        ""
      ],
      "metadata": {
        "id": "kTzQXbtsKjrU"
      },
      "execution_count": null,
      "outputs": []
    },
    {
      "cell_type": "markdown",
      "source": [
        "## Evaluation"
      ],
      "metadata": {
        "id": "65tQesYKKr0c"
      }
    },
    {
      "cell_type": "code",
      "source": [
        "# To Check accuracy of different versions (various combination of hyperparameters)\n",
        "from sklearn.metrics import accuracy_score\n",
        "from sklearn.metrics import confusion_matrix, ConfusionMatrixDisplay\n",
        "import matplotlib.pyplot as plt\n",
        "\n",
        "\n",
        "for i in range(len(df)):\n",
        "  tmp = df[i]\n",
        "  conditions = [tmp['score'] < 0,\n",
        "                tmp['score'] >= 0 ]\n",
        "  choices = [0,\n",
        "             1]\n",
        "  tmp['predicted_value'] = np.select(conditions, choices, default = None)\n",
        "\n",
        "  tmp['star_rating'] = tmp['star_rating'].astype('float')\n",
        "  conditions1 = [tmp['star_rating'] < 3,\n",
        "                tmp['star_rating'] >= 3 ]\n",
        "  choices1 = [0,\n",
        "             1]\n",
        "  tmp['True_value'] = np.select(conditions1, choices1, default = None)\n",
        "\n",
        "  df[i] = tmp\n",
        "\n",
        "for i in range(len(df)):\n",
        "  df[i]['star_rating'] = df[i]['star_rating'].astype('float')\n",
        "  print(\"data frame \", i)\n",
        "  print()\n",
        "  print(\"based on star rating\")\n",
        "  print(\"Negative:\",len(df[i].query('star_rating < 3')))\n",
        "  print(\"Positive:\",len(df[i].query('star_rating >= 3')))\n",
        "  print()\n",
        "  print(\"based on connotation score\")\n",
        "  print(\"Negative:\",len(df[i].query('score < 0')))\n",
        "  print(\"Positive:\",len(df[i].query('score >= 0')))\n",
        "  print()\n",
        "  df[i]['predicted_value'] = df[i]['predicted_value'].astype('int') \n",
        "  df[i]['True_value'] = df[i]['True_value'].astype('int') \n",
        "  print(\"Accuracy:\",accuracy_score(df[i]['predicted_value'], df[i]['True_value']))\n",
        "  cm = confusion_matrix(df[i]['predicted_value'], df[i]['True_value'], labels=[0,1])\n",
        "  disp = ConfusionMatrixDisplay(confusion_matrix=cm, display_labels=[0,1])\n",
        "  # disp.plot()\n",
        "  # plt.show()"
      ],
      "metadata": {
        "colab": {
          "base_uri": "https://localhost:8080/"
        },
        "id": "xQjSKtnODxQL",
        "outputId": "28846d2c-6b9a-4e15-9c89-a64b7b114600"
      },
      "execution_count": null,
      "outputs": [
        {
          "output_type": "stream",
          "name": "stdout",
          "text": [
            "data frame  0\n",
            "\n",
            "based on star rating\n",
            "Negative: 29453\n",
            "Positive: 163720\n",
            "\n",
            "based on connotation score\n",
            "Negative: 82929\n",
            "Positive: 110244\n",
            "\n",
            "Accuracy: 0.4741294073188282\n",
            "data frame  1\n",
            "\n",
            "based on star rating\n",
            "Negative: 31513\n",
            "Positive: 254527\n",
            "\n",
            "based on connotation score\n",
            "Negative: 158312\n",
            "Positive: 127728\n",
            "\n",
            "Accuracy: 0.45706544539225286\n",
            "data frame  2\n",
            "\n",
            "based on star rating\n",
            "Negative: 37554\n",
            "Positive: 247520\n",
            "\n",
            "based on connotation score\n",
            "Negative: 92614\n",
            "Positive: 192460\n",
            "\n",
            "Accuracy: 0.6395532388081691\n"
          ]
        }
      ]
    },
    {
      "cell_type": "code",
      "source": [
        "#Accuracy, F1-score, Precision and Recall\n",
        "\n",
        "from sklearn.metrics import accuracy_score\n",
        "from sklearn.metrics import confusion_matrix, ConfusionMatrixDisplay\n",
        "import matplotlib.pyplot as plt\n",
        "from sklearn.metrics import precision_score\n",
        "from sklearn.metrics import recall_score\n",
        "from sklearn.metrics import f1_score\n",
        "from ml_metrics import mapk\n"
      ],
      "metadata": {
        "id": "EFbFX7ZDK035"
      },
      "execution_count": null,
      "outputs": []
    },
    {
      "cell_type": "code",
      "source": [
        "#Accuracy\n",
        "\n",
        "for i in range(len(df)):\n",
        "  df[i]['star_rating'] = df[i]['star_rating'].astype('float')\n",
        "  print(\"data frame \", i)\n",
        "  \n",
        "  \n",
        "  df[i]['predicted_value'] = df[i]['predicted_value'].astype('int') \n",
        "  df[i]['True_value'] = df[i]['True_value'].astype('int') \n",
        "\n",
        "  print(\"Accuracy:\",accuracy_score(df[i]['predicted_value'], df[i]['True_value']))\n",
        "  print()\n",
        "  cm = confusion_matrix(df[i]['predicted_value'], df[i]['True_value'], labels=[0,1])\n",
        "  disp = ConfusionMatrixDisplay(confusion_matrix=cm, display_labels=[0,1])\n"
      ],
      "metadata": {
        "colab": {
          "base_uri": "https://localhost:8080/"
        },
        "id": "X1vgwtRbdEB2",
        "outputId": "822ebe59-90e3-42b4-8940-fa8aad1f0a2d"
      },
      "execution_count": null,
      "outputs": [
        {
          "output_type": "stream",
          "name": "stdout",
          "text": [
            "data frame  0\n",
            "Accuracy: 0.4741294073188282\n",
            "\n",
            "data frame  1\n",
            "Accuracy: 0.45706544539225286\n",
            "\n",
            "data frame  2\n",
            "Accuracy: 0.6395532388081691\n",
            "\n"
          ]
        }
      ]
    },
    {
      "cell_type": "code",
      "source": [
        "#Confusion Matrix\n",
        "\n",
        "for i in range(len(df)):\n",
        "  df[i]['star_rating'] = df[i]['star_rating'].astype('float')\n",
        "  print(\"data frame \", i)\n",
        "  \n",
        "  df[i]['predicted_value'] = df[i]['predicted_value'].astype('int') \n",
        "  df[i]['True_value'] = df[i]['True_value'].astype('int') \n",
        "  print()\n",
        "  \n",
        "  cm = confusion_matrix(df[i]['predicted_value'], df[i]['True_value'], labels=[0,1])\n",
        "  disp = ConfusionMatrixDisplay(confusion_matrix=cm, display_labels=[0,1])\n",
        "  disp.plot()\n",
        "  plt.show()"
      ],
      "metadata": {
        "colab": {
          "base_uri": "https://localhost:8080/",
          "height": 914
        },
        "id": "2b11xOlmcqLh",
        "outputId": "59c7d981-98a6-496f-c48c-1a1b6746e152"
      },
      "execution_count": null,
      "outputs": [
        {
          "output_type": "stream",
          "name": "stdout",
          "text": [
            "data frame  0\n",
            "\n"
          ]
        },
        {
          "output_type": "display_data",
          "data": {
            "text/plain": [
              "<Figure size 432x288 with 2 Axes>"
            ],
            "image/png": "[encoded data removed]"
          },
          "metadata": {
            "needs_background": "light"
          }
        },
        {
          "output_type": "stream",
          "name": "stdout",
          "text": [
            "data frame  1\n",
            "\n"
          ]
        },
        {
          "output_type": "display_data",
          "data": {
            "text/plain": [
              "<Figure size 432x288 with 2 Axes>"
            ],
            "image/png": "[encoded data removed]"
          },
          "metadata": {
            "needs_background": "light"
          }
        },
        {
          "output_type": "stream",
          "name": "stdout",
          "text": [
            "data frame  2\n",
            "\n"
          ]
        },
        {
          "output_type": "display_data",
          "data": {
            "text/plain": [
              "<Figure size 432x288 with 2 Axes>"
            ],
            "image/png": "[encoded data removed]"
          },
          "metadata": {
            "needs_background": "light"
          }
        }
      ]
    },
    {
      "cell_type": "code",
      "source": [
        "# Precision\n",
        "\n",
        "for i in range(len(df)):\n",
        "  df[i]['star_rating'] = df[i]['star_rating'].astype('float')\n",
        "  print(\"data frame \", i)\n",
        "  \n",
        "  df[i]['predicted_value'] = df[i]['predicted_value'].astype('int') \n",
        "  df[i]['True_value'] = df[i]['True_value'].astype('int') \n",
        "  print(\"Precision Score for Positive class : \",precision_score(df[i]['True_value'], df[i]['predicted_value'], average='binary',pos_label=1))\n",
        "  print(\"Precision Score for Negative class : \",precision_score(df[i]['True_value'], df[i]['predicted_value'], average='binary',pos_label=0))\n",
        "  print()\n",
        "  "
      ],
      "metadata": {
        "colab": {
          "base_uri": "https://localhost:8080/"
        },
        "id": "Cm2BmuGUc_Jv",
        "outputId": "ecb36677-6363-4637-b2f0-7a09a52228e3"
      },
      "execution_count": null,
      "outputs": [
        {
          "output_type": "stream",
          "name": "stdout",
          "text": [
            "data frame  0\n",
            "Precision Score for Positive class :  0.7818112550342876\n",
            "Precision Score for Negative class :  0.06510388404538822\n",
            "\n",
            "data frame  1\n",
            "Precision Score for Positive class :  0.888426969810848\n",
            "Precision Score for Negative class :  0.10903784931022285\n",
            "\n",
            "data frame  2\n",
            "Precision Score for Positive class :  0.8760937337628598\n",
            "Precision Score for Negative class :  0.14800138208046298\n",
            "\n"
          ]
        }
      ]
    },
    {
      "cell_type": "code",
      "source": [
        "# Recall\n",
        "\n",
        "for i in range(len(df)):\n",
        "  df[i]['star_rating'] = df[i]['star_rating'].astype('float')\n",
        "  print(\"data frame \", i)\n",
        "  \n",
        "  df[i]['predicted_value'] = df[i]['predicted_value'].astype('int') \n",
        "  df[i]['True_value'] = df[i]['True_value'].astype('int') \n",
        "  print(\"Precision Score for Positive class : \",recall_score(df[i]['True_value'], df[i]['predicted_value'], average='binary',pos_label=1))\n",
        "  print(\"Precision Score for Negative class : \",recall_score(df[i]['True_value'], df[i]['predicted_value'], average='binary',pos_label=0))\n",
        "  print()\n",
        "  "
      ],
      "metadata": {
        "colab": {
          "base_uri": "https://localhost:8080/"
        },
        "id": "GfiusWWjeUcK",
        "outputId": "6efa6464-d3f8-441c-f3cd-bcc63a0987da"
      },
      "execution_count": null,
      "outputs": [
        {
          "output_type": "stream",
          "name": "stdout",
          "text": [
            "data frame  0\n",
            "Precision Score for Positive class :  0.5264475934522356\n",
            "Precision Score for Negative class :  0.18330900078090517\n",
            "\n",
            "data frame  1\n",
            "Precision Score for Positive class :  0.4458348230246693\n",
            "Precision Score for Negative class :  0.5477739345666868\n",
            "\n",
            "data frame  2\n",
            "Precision Score for Positive class :  0.6812095992243051\n",
            "Precision Score for Negative class :  0.3649944080524045\n",
            "\n"
          ]
        }
      ]
    },
    {
      "cell_type": "code",
      "source": [
        "# F1 Score\n",
        "\n",
        "for i in range(len(df)):\n",
        "  df[i]['star_rating'] = df[i]['star_rating'].astype('float')\n",
        "  print(\"data frame \", i)\n",
        "  \n",
        "  df[i]['predicted_value'] = df[i]['predicted_value'].astype('int') \n",
        "  df[i]['True_value'] = df[i]['True_value'].astype('int') \n",
        "  print(\"F1 Score for Positive class : \",f1_score(df[i]['True_value'], df[i]['predicted_value'], average='binary',pos_label=1))\n",
        "  print(\"F1 Score for Negative class : \",f1_score(df[i]['True_value'], df[i]['predicted_value'], average='binary',pos_label=0))\n",
        "  print()\n",
        "  "
      ],
      "metadata": {
        "colab": {
          "base_uri": "https://localhost:8080/"
        },
        "id": "B45ucP8xejCh",
        "outputId": "a4c1624b-55e3-4455-ec3d-e488d25835e5"
      },
      "execution_count": null,
      "outputs": [
        {
          "output_type": "stream",
          "name": "stdout",
          "text": [
            "data frame  0\n",
            "F1 Score for Positive class :  0.6292067570921727\n",
            "F1 Score for Negative class :  0.0960830026160773\n",
            "\n",
            "data frame  1\n",
            "F1 Score for Positive class :  0.5937240847078521\n",
            "F1 Score for Negative class :  0.18187277755827735\n",
            "\n",
            "data frame  2\n",
            "F1 Score for Positive class :  0.7664575662530114\n",
            "F1 Score for Negative class :  0.21060475692950648\n",
            "\n"
          ]
        }
      ]
    },
    {
      "cell_type": "code",
      "source": [
        "# MAP Score\n",
        "for i in range(len(df)):\n",
        "  print(\"data frame \", i)\n",
        "  temp = df[i]\n",
        "  temp = temp.groupby(['product_id']).mean()[['star_rating','score']]\n",
        "  rank_star = temp.sort_values(\"star_rating\",ascending=False)\n",
        "  rank_score = temp.sort_values(\"score\",ascending=False)\n",
        "  print(\"MAP:\",mapk(rank_star.index, rank_score.index,k=3))\n",
        "  print()"
      ],
      "metadata": {
        "colab": {
          "base_uri": "https://localhost:8080/"
        },
        "id": "1v6nDcXxe24g",
        "outputId": "d34c6dc8-2fe1-4900-91dc-a9115efbae0f"
      },
      "execution_count": null,
      "outputs": [
        {
          "output_type": "stream",
          "name": "stdout",
          "text": [
            "data frame  0\n",
            "MAP: 0.6666666666666666\n",
            "\n",
            "data frame  1\n",
            "MAP: 0.6656108597285068\n",
            "\n",
            "data frame  2\n",
            "MAP: 0.6666666666666666\n",
            "\n"
          ]
        }
      ]
    },
    {
      "cell_type": "markdown",
      "source": [
        "## Visualization"
      ],
      "metadata": {
        "id": "d5oJ0KMQ3Wna"
      }
    },
    {
      "cell_type": "code",
      "source": [
        "def top_used(text):\n",
        "  global words \n",
        "  for t in text:\n",
        "    words[t] += 1\n",
        "\n",
        "word_counts = []\n",
        "for i in range(len(df)):\n",
        "  words = defaultdict(int)\n",
        "  df[i].tokenized.apply(top_used)\n",
        "  word_counts.append(words)\n",
        "\n",
        "count_dfs = []\n",
        "for i in range(len(df)): \n",
        "  key = list(word_counts[i].keys())\n",
        "  value = list(word_counts[i].values())\n",
        "  count_df = pd.DataFrame(list(zip(key, value)), columns=['word', 'count'])\n",
        "  count_dfs.append(count_df)\n",
        "\n",
        "cnt_class = []\n",
        "for i in range(len(df)):\n",
        "  tmp = count_dfs[i].merge(class_fixed[i], on='word', how='left').sort_values(by = ['class','count'],ascending = False).groupby('class').head(10)\n",
        "  tmp = tmp.loc[tmp['class'].isin(['Positive','Negative'])]\n",
        "  cnt_class.append(tmp)"
      ],
      "metadata": {
        "id": "lBWZ9ZY0vNWT"
      },
      "execution_count": null,
      "outputs": []
    },
    {
      "cell_type": "code",
      "source": [
        "sb.set_theme(style=\"whitegrid\")\n",
        "sb.set(rc={'figure.figsize':(11.7,8.27)})\n",
        "ax = sb.barplot(data=cnt_class[0], x='word', y='count', hue='class')\n",
        "plt.xticks(rotation=45)\n"
      ],
      "metadata": {
        "colab": {
          "base_uri": "https://localhost:8080/",
          "height": 585
        },
        "id": "VadpBM0tBjzD",
        "outputId": "bff7d20b-5967-4940-e540-68957b3d592e"
      },
      "execution_count": null,
      "outputs": [
        {
          "output_type": "execute_result",
          "data": {
            "text/plain": [
              "(array([ 0,  1,  2,  3,  4,  5,  6,  7,  8,  9, 10, 11, 12, 13, 14, 15, 16,\n",
              "        17, 18, 19]), <a list of 20 Text major ticklabel objects>)"
            ]
          },
          "metadata": {},
          "execution_count": 26
        },
        {
          "output_type": "display_data",
          "data": {
            "text/plain": [
              "<Figure size 842.4x595.44 with 1 Axes>"
            ],
            "image/png": "[encoded data removed]"
          },
          "metadata": {}
        }
      ]
    },
    {
      "cell_type": "code",
      "source": [
        "ax = sb.barplot(data=cnt_class[1], x='word', y='count', hue='class')\n",
        "plt.xticks(rotation=45)"
      ],
      "metadata": {
        "colab": {
          "base_uri": "https://localhost:8080/",
          "height": 580
        },
        "id": "rG9AhGseBX8z",
        "outputId": "033dda16-45cc-476b-ecbd-083e3b4c27f7"
      },
      "execution_count": null,
      "outputs": [
        {
          "output_type": "execute_result",
          "data": {
            "text/plain": [
              "(array([ 0,  1,  2,  3,  4,  5,  6,  7,  8,  9, 10, 11, 12, 13, 14, 15, 16,\n",
              "        17, 18, 19]), <a list of 20 Text major ticklabel objects>)"
            ]
          },
          "metadata": {},
          "execution_count": 27
        },
        {
          "output_type": "display_data",
          "data": {
            "text/plain": [
              "<Figure size 842.4x595.44 with 1 Axes>"
            ],
            "image/png": "[encoded data removed]"
          },
          "metadata": {}
        }
      ]
    },
    {
      "cell_type": "code",
      "source": [
        "ax = sb.barplot(data=cnt_class[2], x='word', y='count', hue='class')\n",
        "plt.xticks(rotation=45)"
      ],
      "metadata": {
        "colab": {
          "base_uri": "https://localhost:8080/",
          "height": 579
        },
        "id": "GDd8yYAJBY7U",
        "outputId": "326ec467-c76f-44a7-95dd-57e30d9b776d"
      },
      "execution_count": null,
      "outputs": [
        {
          "output_type": "execute_result",
          "data": {
            "text/plain": [
              "(array([ 0,  1,  2,  3,  4,  5,  6,  7,  8,  9, 10, 11, 12, 13, 14, 15, 16,\n",
              "        17, 18, 19]), <a list of 20 Text major ticklabel objects>)"
            ]
          },
          "metadata": {},
          "execution_count": 28
        },
        {
          "output_type": "display_data",
          "data": {
            "text/plain": [
              "<Figure size 842.4x595.44 with 1 Axes>"
            ],
            "image/png": "[encoded data removed]"
          },
          "metadata": {}
        }
      ]
    },
    {
      "cell_type": "markdown",
      "source": [
        "## Querying"
      ],
      "metadata": {
        "id": "SSYg8cjDoJ2T"
      }
    },
    {
      "cell_type": "code",
      "source": [
        ""
      ],
      "metadata": {
        "id": "MIzDlHWYMwKp"
      },
      "execution_count": null,
      "outputs": []
    },
    {
      "cell_type": "code",
      "source": [
        "def recommendation(product):\n",
        "  dct = dict({'Jewelry' : 0, 'Musical Instruments': 1, 'Watches' : 2 })\n",
        "  for i in dct:\n",
        "    if i == 'Watches':\n",
        "      tt = df[dct[i]].groupby('product_id').head(10).mean()['score']\n",
        "      break\n",
        "    else:\n",
        "      return \"Invalid Product Name\"\n",
        "  return tt"
      ],
      "metadata": {
        "id": "LZUlMBPUFQZP"
      },
      "execution_count": null,
      "outputs": []
    },
    {
      "cell_type": "code",
      "source": [
        "product = input(\"Enter product number : \")\n",
        "recommendation(product)"
      ],
      "metadata": {
        "id": "Jipa4BiJjFhb"
      },
      "execution_count": null,
      "outputs": []
    }
  ]
}